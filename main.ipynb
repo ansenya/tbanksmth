{
 "cells": [
  {
   "cell_type": "code",
   "id": "initial_id",
   "metadata": {
    "collapsed": true,
    "ExecuteTime": {
     "end_time": "2024-11-05T08:04:34.260528Z",
     "start_time": "2024-11-05T08:04:33.288320Z"
    }
   },
   "source": [
    "from datetime import timedelta\n",
    "import pandas as pd\n",
    "\n",
    "from tinkoff.invest import CandleInterval, Client\n",
    "from tinkoff.invest.utils import now\n",
    "import numpy as np\n",
    "from scipy.stats import linregress\n",
    "from tqdm import tqdm\n",
    "\n",
    "TOKEN = \"token\""
   ],
   "outputs": [],
   "execution_count": 2
  },
  {
   "metadata": {
    "ExecuteTime": {
     "end_time": "2024-11-05T08:04:34.924136Z",
     "start_time": "2024-11-05T08:04:34.267296Z"
    }
   },
   "cell_type": "code",
   "source": [
    "with Client(TOKEN) as client:\n",
    "    shares = client.instruments.shares().instruments\n",
    "    shares = [i for i in shares if i.currency == \"rub\"]"
   ],
   "id": "3ab94bb438ba18be",
   "outputs": [],
   "execution_count": 3
  },
  {
   "metadata": {
    "ExecuteTime": {
     "end_time": "2024-11-05T08:04:35.000960Z",
     "start_time": "2024-11-05T08:04:34.931309Z"
    }
   },
   "cell_type": "code",
   "source": [
    "TARGET_COLUMNS = [\"figi\", \"ticker\", \"lot\", \"name\", \"sector\"]\n",
    "shares_df = pd.DataFrame(columns=TARGET_COLUMNS)\n",
    "for i, share in enumerate(shares):\n",
    "    shares_df.loc[i] = pd.Series(\n",
    "        (share.figi, share.ticker, share.lot, share.name, share.sector), TARGET_COLUMNS\n",
    "    )\n",
    "shares_df"
   ],
   "id": "571e53f7c3ca483f",
   "outputs": [
    {
     "data": {
      "text/plain": [
       "             figi ticker     lot  \\\n",
       "0    TCS007940839  KZIZP       1   \n",
       "1    TCS00A108ZR8   DATA       1   \n",
       "2    BBG000FWGSZ5   IRKT     100   \n",
       "3    BBG004S68CV8   VSMO       1   \n",
       "4    BBG000Q7ZZY2   UNAC    1000   \n",
       "..            ...    ...     ...   \n",
       "167  BBG004S68BR5   NMTP     100   \n",
       "168  BBG000QFH687   TGKA  100000   \n",
       "169  BBG0027F0Y27  CNTLP     100   \n",
       "170  BBG004S68FR6  MTLRP      10   \n",
       "171  BBG000C7P5M7   MRKY   10000   \n",
       "\n",
       "                                                  name       sector  \n",
       "0    Красногорский завод им. С.А. Зверева - привиле...        other  \n",
       "1                                     Группа Аренадата           it  \n",
       "2                                              Яковлев  industrials  \n",
       "3                                         ВСМПО-АВИСМА    materials  \n",
       "4             Объединенная авиастроительная корпорация  industrials  \n",
       "..                                                 ...          ...  \n",
       "167                                               НМТП  industrials  \n",
       "168                                              ТГК-1    utilities  \n",
       "169     Центральный Телеграф - акции привилегированные      telecom  \n",
       "170                    Мечел - Привилегированные акции    materials  \n",
       "171                                           МРСК Юга    utilities  \n",
       "\n",
       "[172 rows x 5 columns]"
      ],
      "text/html": [
       "<div>\n",
       "<style scoped>\n",
       "    .dataframe tbody tr th:only-of-type {\n",
       "        vertical-align: middle;\n",
       "    }\n",
       "\n",
       "    .dataframe tbody tr th {\n",
       "        vertical-align: top;\n",
       "    }\n",
       "\n",
       "    .dataframe thead th {\n",
       "        text-align: right;\n",
       "    }\n",
       "</style>\n",
       "<table border=\"1\" class=\"dataframe\">\n",
       "  <thead>\n",
       "    <tr style=\"text-align: right;\">\n",
       "      <th></th>\n",
       "      <th>figi</th>\n",
       "      <th>ticker</th>\n",
       "      <th>lot</th>\n",
       "      <th>name</th>\n",
       "      <th>sector</th>\n",
       "    </tr>\n",
       "  </thead>\n",
       "  <tbody>\n",
       "    <tr>\n",
       "      <th>0</th>\n",
       "      <td>TCS007940839</td>\n",
       "      <td>KZIZP</td>\n",
       "      <td>1</td>\n",
       "      <td>Красногорский завод им. С.А. Зверева - привиле...</td>\n",
       "      <td>other</td>\n",
       "    </tr>\n",
       "    <tr>\n",
       "      <th>1</th>\n",
       "      <td>TCS00A108ZR8</td>\n",
       "      <td>DATA</td>\n",
       "      <td>1</td>\n",
       "      <td>Группа Аренадата</td>\n",
       "      <td>it</td>\n",
       "    </tr>\n",
       "    <tr>\n",
       "      <th>2</th>\n",
       "      <td>BBG000FWGSZ5</td>\n",
       "      <td>IRKT</td>\n",
       "      <td>100</td>\n",
       "      <td>Яковлев</td>\n",
       "      <td>industrials</td>\n",
       "    </tr>\n",
       "    <tr>\n",
       "      <th>3</th>\n",
       "      <td>BBG004S68CV8</td>\n",
       "      <td>VSMO</td>\n",
       "      <td>1</td>\n",
       "      <td>ВСМПО-АВИСМА</td>\n",
       "      <td>materials</td>\n",
       "    </tr>\n",
       "    <tr>\n",
       "      <th>4</th>\n",
       "      <td>BBG000Q7ZZY2</td>\n",
       "      <td>UNAC</td>\n",
       "      <td>1000</td>\n",
       "      <td>Объединенная авиастроительная корпорация</td>\n",
       "      <td>industrials</td>\n",
       "    </tr>\n",
       "    <tr>\n",
       "      <th>...</th>\n",
       "      <td>...</td>\n",
       "      <td>...</td>\n",
       "      <td>...</td>\n",
       "      <td>...</td>\n",
       "      <td>...</td>\n",
       "    </tr>\n",
       "    <tr>\n",
       "      <th>167</th>\n",
       "      <td>BBG004S68BR5</td>\n",
       "      <td>NMTP</td>\n",
       "      <td>100</td>\n",
       "      <td>НМТП</td>\n",
       "      <td>industrials</td>\n",
       "    </tr>\n",
       "    <tr>\n",
       "      <th>168</th>\n",
       "      <td>BBG000QFH687</td>\n",
       "      <td>TGKA</td>\n",
       "      <td>100000</td>\n",
       "      <td>ТГК-1</td>\n",
       "      <td>utilities</td>\n",
       "    </tr>\n",
       "    <tr>\n",
       "      <th>169</th>\n",
       "      <td>BBG0027F0Y27</td>\n",
       "      <td>CNTLP</td>\n",
       "      <td>100</td>\n",
       "      <td>Центральный Телеграф - акции привилегированные</td>\n",
       "      <td>telecom</td>\n",
       "    </tr>\n",
       "    <tr>\n",
       "      <th>170</th>\n",
       "      <td>BBG004S68FR6</td>\n",
       "      <td>MTLRP</td>\n",
       "      <td>10</td>\n",
       "      <td>Мечел - Привилегированные акции</td>\n",
       "      <td>materials</td>\n",
       "    </tr>\n",
       "    <tr>\n",
       "      <th>171</th>\n",
       "      <td>BBG000C7P5M7</td>\n",
       "      <td>MRKY</td>\n",
       "      <td>10000</td>\n",
       "      <td>МРСК Юга</td>\n",
       "      <td>utilities</td>\n",
       "    </tr>\n",
       "  </tbody>\n",
       "</table>\n",
       "<p>172 rows × 5 columns</p>\n",
       "</div>"
      ]
     },
     "execution_count": 4,
     "metadata": {},
     "output_type": "execute_result"
    }
   ],
   "execution_count": 4
  },
  {
   "metadata": {
    "ExecuteTime": {
     "end_time": "2024-11-05T08:04:42.827797Z",
     "start_time": "2024-11-05T08:04:35.020519Z"
    }
   },
   "cell_type": "code",
   "source": [
    "portfolio_df = pd.DataFrame()\n",
    "with Client(TOKEN) as client:\n",
    "    candles_ticker = {}\n",
    "    for index, row in tqdm(shares_df.iterrows()):\n",
    "        figi, ticker, lot, name, sector = row\n",
    "        candles = map(\n",
    "            lambda x: (x.time, x.close.units + x.close.nano / 1e9),\n",
    "            client.get_all_candles(\n",
    "                figi=figi,\n",
    "                from_=now() - timedelta(days=30),\n",
    "                interval=CandleInterval.CANDLE_INTERVAL_DAY,\n",
    "            ),\n",
    "        )\n",
    "        candles_data = []\n",
    "        for _, close in candles:\n",
    "            candles_data.append(close)\n",
    "        candles_ticker[str(ticker)] = candles_data"
   ],
   "id": "48093b3e0adcf990",
   "outputs": [
    {
     "name": "stderr",
     "output_type": "stream",
     "text": [
      "172it [00:07, 22.16it/s]\n"
     ]
    }
   ],
   "execution_count": 5
  },
  {
   "metadata": {
    "ExecuteTime": {
     "end_time": "2024-11-05T08:04:42.909509Z",
     "start_time": "2024-11-05T08:04:42.863799Z"
    }
   },
   "cell_type": "code",
   "source": [
    "for i in candles_ticker:\n",
    "    candles_data = candles_ticker[i]\n",
    "    if len(candles_data) == 0:\n",
    "        continue\n",
    "    x = np.arange(len(candles_data))\n",
    "    y = np.array(candles_data)\n",
    "\n",
    "    slope, intercept, r_value, p_value, std_err = linregress(x, y)\n",
    "\n",
    "    if slope > 0:\n",
    "        shares_df.loc[shares_df[\"ticker\"] == i, \"rating\"] = slope\n",
    "    else:\n",
    "        shares_df.loc[shares_df[\"ticker\"] == i, \"rating\"] = 0\n",
    "shares_df = shares_df[shares_df[\"rating\"] != 0]\n",
    "shares_df.head()"
   ],
   "id": "65a8cde23c9fb33b",
   "outputs": [
    {
     "data": {
      "text/plain": [
       "            figi ticker lot                  name       sector     rating\n",
       "1   TCS00A108ZR8   DATA   1      Группа Аренадата           it   0.948131\n",
       "18  TCS2207L1061   HHRU   1  HeadHunter Group PLC           it        NaN\n",
       "28  BBG008F2T3T2   RUAL  10                 РУСАЛ    materials   0.051245\n",
       "59  BBG002YFXL29   UNKL   1                  ЮУНК    materials  24.381705\n",
       "68  TCS009084453   NOMP   1          Новошип - ао  industrials   0.298013"
      ],
      "text/html": [
       "<div>\n",
       "<style scoped>\n",
       "    .dataframe tbody tr th:only-of-type {\n",
       "        vertical-align: middle;\n",
       "    }\n",
       "\n",
       "    .dataframe tbody tr th {\n",
       "        vertical-align: top;\n",
       "    }\n",
       "\n",
       "    .dataframe thead th {\n",
       "        text-align: right;\n",
       "    }\n",
       "</style>\n",
       "<table border=\"1\" class=\"dataframe\">\n",
       "  <thead>\n",
       "    <tr style=\"text-align: right;\">\n",
       "      <th></th>\n",
       "      <th>figi</th>\n",
       "      <th>ticker</th>\n",
       "      <th>lot</th>\n",
       "      <th>name</th>\n",
       "      <th>sector</th>\n",
       "      <th>rating</th>\n",
       "    </tr>\n",
       "  </thead>\n",
       "  <tbody>\n",
       "    <tr>\n",
       "      <th>1</th>\n",
       "      <td>TCS00A108ZR8</td>\n",
       "      <td>DATA</td>\n",
       "      <td>1</td>\n",
       "      <td>Группа Аренадата</td>\n",
       "      <td>it</td>\n",
       "      <td>0.948131</td>\n",
       "    </tr>\n",
       "    <tr>\n",
       "      <th>18</th>\n",
       "      <td>TCS2207L1061</td>\n",
       "      <td>HHRU</td>\n",
       "      <td>1</td>\n",
       "      <td>HeadHunter Group PLC</td>\n",
       "      <td>it</td>\n",
       "      <td>NaN</td>\n",
       "    </tr>\n",
       "    <tr>\n",
       "      <th>28</th>\n",
       "      <td>BBG008F2T3T2</td>\n",
       "      <td>RUAL</td>\n",
       "      <td>10</td>\n",
       "      <td>РУСАЛ</td>\n",
       "      <td>materials</td>\n",
       "      <td>0.051245</td>\n",
       "    </tr>\n",
       "    <tr>\n",
       "      <th>59</th>\n",
       "      <td>BBG002YFXL29</td>\n",
       "      <td>UNKL</td>\n",
       "      <td>1</td>\n",
       "      <td>ЮУНК</td>\n",
       "      <td>materials</td>\n",
       "      <td>24.381705</td>\n",
       "    </tr>\n",
       "    <tr>\n",
       "      <th>68</th>\n",
       "      <td>TCS009084453</td>\n",
       "      <td>NOMP</td>\n",
       "      <td>1</td>\n",
       "      <td>Новошип - ао</td>\n",
       "      <td>industrials</td>\n",
       "      <td>0.298013</td>\n",
       "    </tr>\n",
       "  </tbody>\n",
       "</table>\n",
       "</div>"
      ]
     },
     "execution_count": 6,
     "metadata": {},
     "output_type": "execute_result"
    }
   ],
   "execution_count": 6
  },
  {
   "metadata": {
    "ExecuteTime": {
     "end_time": "2024-11-05T08:04:43.616795Z",
     "start_time": "2024-11-05T08:04:43.035930Z"
    }
   },
   "cell_type": "code",
   "source": [
    "with Client(TOKEN) as client:\n",
    "    for _, row in tqdm(shares_df.iterrows()):\n",
    "        price = client.market_data.get_last_prices(figi=[row.figi]).last_prices[0]\n",
    "        price = price.price.units + price.price.nano / 10e9\n",
    "        price *= row.lot\n",
    "        if price == 0:\n",
    "            continue\n",
    "        shares_df.loc[shares_df[\"ticker\"] == row[\"ticker\"], \"price\"] = price\n",
    "shares_df.sort_values(by=\"rating\", ascending=False, inplace=True)\n",
    "shares_df.head()"
   ],
   "id": "e579aa605e0f49ab",
   "outputs": [
    {
     "name": "stderr",
     "output_type": "stream",
     "text": [
      "0it [00:00, ?it/s]/var/folders/5w/jv8qq0fn5b3dwhxy_06sbt7m0000gn/T/ipykernel_43759/1872939268.py:8: SettingWithCopyWarning: \n",
      "A value is trying to be set on a copy of a slice from a DataFrame.\n",
      "Try using .loc[row_indexer,col_indexer] = value instead\n",
      "\n",
      "See the caveats in the documentation: https://pandas.pydata.org/pandas-docs/stable/user_guide/indexing.html#returning-a-view-versus-a-copy\n",
      "  shares_df.loc[shares_df[\"ticker\"] == row[\"ticker\"], \"price\"] = price\n",
      "18it [00:00, 32.44it/s]\n",
      "/var/folders/5w/jv8qq0fn5b3dwhxy_06sbt7m0000gn/T/ipykernel_43759/1872939268.py:9: SettingWithCopyWarning: \n",
      "A value is trying to be set on a copy of a slice from a DataFrame\n",
      "\n",
      "See the caveats in the documentation: https://pandas.pydata.org/pandas-docs/stable/user_guide/indexing.html#returning-a-view-versus-a-copy\n",
      "  shares_df.sort_values(by=\"rating\", ascending=False, inplace=True)\n"
     ]
    },
    {
     "data": {
      "text/plain": [
       "             figi ticker lot              name     sector      rating  \\\n",
       "161  BBG000R607Y3   PLZL   1             Полюс  materials  110.324675   \n",
       "121  BBG004S688G4   AKRN   1             Акрон  materials   39.296443   \n",
       "59   BBG002YFXL29   UNKL   1              ЮУНК  materials   24.381705   \n",
       "106  TCS20A107662   HEAD   1         Хэдхантер         it    4.446076   \n",
       "1    TCS00A108ZR8   DATA   1  Группа Аренадата         it    0.948131   \n",
       "\n",
       "         price  \n",
       "161  15259.050  \n",
       "121  17012.000  \n",
       "59    6110.000  \n",
       "106   4261.000  \n",
       "1      123.002  "
      ],
      "text/html": [
       "<div>\n",
       "<style scoped>\n",
       "    .dataframe tbody tr th:only-of-type {\n",
       "        vertical-align: middle;\n",
       "    }\n",
       "\n",
       "    .dataframe tbody tr th {\n",
       "        vertical-align: top;\n",
       "    }\n",
       "\n",
       "    .dataframe thead th {\n",
       "        text-align: right;\n",
       "    }\n",
       "</style>\n",
       "<table border=\"1\" class=\"dataframe\">\n",
       "  <thead>\n",
       "    <tr style=\"text-align: right;\">\n",
       "      <th></th>\n",
       "      <th>figi</th>\n",
       "      <th>ticker</th>\n",
       "      <th>lot</th>\n",
       "      <th>name</th>\n",
       "      <th>sector</th>\n",
       "      <th>rating</th>\n",
       "      <th>price</th>\n",
       "    </tr>\n",
       "  </thead>\n",
       "  <tbody>\n",
       "    <tr>\n",
       "      <th>161</th>\n",
       "      <td>BBG000R607Y3</td>\n",
       "      <td>PLZL</td>\n",
       "      <td>1</td>\n",
       "      <td>Полюс</td>\n",
       "      <td>materials</td>\n",
       "      <td>110.324675</td>\n",
       "      <td>15259.050</td>\n",
       "    </tr>\n",
       "    <tr>\n",
       "      <th>121</th>\n",
       "      <td>BBG004S688G4</td>\n",
       "      <td>AKRN</td>\n",
       "      <td>1</td>\n",
       "      <td>Акрон</td>\n",
       "      <td>materials</td>\n",
       "      <td>39.296443</td>\n",
       "      <td>17012.000</td>\n",
       "    </tr>\n",
       "    <tr>\n",
       "      <th>59</th>\n",
       "      <td>BBG002YFXL29</td>\n",
       "      <td>UNKL</td>\n",
       "      <td>1</td>\n",
       "      <td>ЮУНК</td>\n",
       "      <td>materials</td>\n",
       "      <td>24.381705</td>\n",
       "      <td>6110.000</td>\n",
       "    </tr>\n",
       "    <tr>\n",
       "      <th>106</th>\n",
       "      <td>TCS20A107662</td>\n",
       "      <td>HEAD</td>\n",
       "      <td>1</td>\n",
       "      <td>Хэдхантер</td>\n",
       "      <td>it</td>\n",
       "      <td>4.446076</td>\n",
       "      <td>4261.000</td>\n",
       "    </tr>\n",
       "    <tr>\n",
       "      <th>1</th>\n",
       "      <td>TCS00A108ZR8</td>\n",
       "      <td>DATA</td>\n",
       "      <td>1</td>\n",
       "      <td>Группа Аренадата</td>\n",
       "      <td>it</td>\n",
       "      <td>0.948131</td>\n",
       "      <td>123.002</td>\n",
       "    </tr>\n",
       "  </tbody>\n",
       "</table>\n",
       "</div>"
      ]
     },
     "execution_count": 7,
     "metadata": {},
     "output_type": "execute_result"
    }
   ],
   "execution_count": 7
  },
  {
   "metadata": {
    "ExecuteTime": {
     "end_time": "2024-11-05T08:07:59.512694Z",
     "start_time": "2024-11-05T08:07:59.365092Z"
    }
   },
   "cell_type": "code",
   "source": [
    "balance = 1_000_000  \n",
    "portfolio_balance = 0\n",
    "portfolio = {}\n",
    "\n",
    "with Client(TOKEN) as client:\n",
    "    for _, row in tqdm(shares_df.iterrows(), total=shares_df.shape[0]):\n",
    "        if portfolio_balance + row.price <= balance:\n",
    "            portfolio[f\"{row.ticker}\"] = portfolio.get(row.ticker, 0) + 1\n",
    "            portfolio_balance += row.price\n",
    "\n",
    "    for _, row in tqdm(shares_df.iterrows(), total=shares_df.shape[0]):\n",
    "        j = 1\n",
    "        while portfolio_balance + row.price * j <= balance:\n",
    "            portfolio[row.ticker] = portfolio.get(row.ticker, 0) + 1\n",
    "            portfolio_balance += row.price\n",
    "            j += 1\n",
    "\n",
    "print(portfolio)\n",
    "print(\"Balance: \", portfolio_balance)"
   ],
   "id": "323ff3557a14f9cb",
   "outputs": [
    {
     "name": "stderr",
     "output_type": "stream",
     "text": [
      "100%|██████████| 18/18 [00:00<00:00, 13374.22it/s]\n",
      "100%|██████████| 18/18 [00:00<00:00, 186.82it/s]"
     ]
    },
    {
     "name": "stdout",
     "output_type": "stream",
     "text": [
      "{'PLZL': 32, 'AKRN': 15, 'UNKL': 20, 'HEAD': 15, 'DATA': 254, 'GLTR': 31, 'LSRG': 12, 'NOMP': 18, 'QIWI': 10, 'RUAL': 4, 'VEON-RX': 3, 'AFLT': 1, 'SFIN': 1, 'SGZH': 2, 'MRKC': 3, 'HHRU': 1, 'GRNT': 7800}\n",
      "Balance:  999939.9469996699\n"
     ]
    },
    {
     "name": "stderr",
     "output_type": "stream",
     "text": [
      "\n"
     ]
    }
   ],
   "execution_count": 13
  },
  {
   "metadata": {
    "ExecuteTime": {
     "end_time": "2024-11-05T08:04:44.023150Z",
     "start_time": "2024-11-05T08:04:44.021018Z"
    }
   },
   "cell_type": "code",
   "source": "",
   "id": "cdc4d623e43b557",
   "outputs": [],
   "execution_count": null
  }
 ],
 "metadata": {
  "kernelspec": {
   "display_name": "Python 3",
   "language": "python",
   "name": "python3"
  },
  "language_info": {
   "codemirror_mode": {
    "name": "ipython",
    "version": 2
   },
   "file_extension": ".py",
   "mimetype": "text/x-python",
   "name": "python",
   "nbconvert_exporter": "python",
   "pygments_lexer": "ipython2",
   "version": "2.7.6"
  }
 },
 "nbformat": 4,
 "nbformat_minor": 5
}
